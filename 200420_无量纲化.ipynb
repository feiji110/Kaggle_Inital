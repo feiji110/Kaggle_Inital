{
 "cells": [
  {
   "cell_type": "markdown",
   "metadata": {},
   "source": [
    "# Data Preprocessing&Impute"
   ]
  },
  {
   "cell_type": "markdown",
   "metadata": {},
   "source": [
    "### 数据无量纲化:不同规格数据转到统一规格，不同分布转为某个特定分布\n",
    "比如：1. 以梯度和矩阵为核心的算法：逻辑回归，SVM，神经网络，无量纲化可加快求解速度，\n",
    "      2. 距离类模型: KNN，K-means聚类。无量钢化提升精度。避免某一取值范围特别大的特征对距离计算造成影响。\n",
    "      3. 特例: 决策树和树的集成算法中，对决策树不做无量纲化，Decision tree 可以将任意数据处理得很好。\n",
    "      --------------                                                   -------------\n",
    "### 分类\n",
    "- 线性\n",
    "    + 中心化 Zero-centered 或者Mean-subtraction (本质是所有记录减去一个固定值，即让数据样本数据平移到某个位置。)\n",
    "    + 缩放处理 Scale(本质是通过除以一个固定值，将数据固定在某个范围中，取对数也是一种缩放处理)\n",
    "- 非线性 \n",
    "min\n"
   ]
  },
  {
   "cell_type": "markdown",
   "metadata": {},
   "source": [
    "### preprocessing.MinMaxScaler\n",
    "数据(x)按照最小值中心化后，再按极差(MAX-MIN)缩放。数据移动了最小值个单位，并会被收敛到\\[0,1\\]之间，这个过程交**数据归一化(Normalization又叫Min-Max-Scaling)**。区分:正则化(regularization)不是预处理得手段，归一化后得数据服从正态分布。\n",
    "\n"
   ]
  },
  {
   "cell_type": "markdown",
   "metadata": {},
   "source": [
    "+ preprocessing.MinMaxscaler实现Normalization。\n",
    "+ 参数feature_range：控制数据压缩到得范围，默认\\[0,1\\]"
   ]
  },
  {
   "cell_type": "code",
   "execution_count": 2,
   "metadata": {},
   "outputs": [
    {
     "output_type": "execute_result",
     "data": {
      "text/plain": "     0   1\n0 -1.0   2\n1 -0.5   6\n2  0.0  10\n3  1.0  18",
      "text/html": "<div>\n<style scoped>\n    .dataframe tbody tr th:only-of-type {\n        vertical-align: middle;\n    }\n\n    .dataframe tbody tr th {\n        vertical-align: top;\n    }\n\n    .dataframe thead th {\n        text-align: right;\n    }\n</style>\n<table border=\"1\" class=\"dataframe\">\n  <thead>\n    <tr style=\"text-align: right;\">\n      <th></th>\n      <th>0</th>\n      <th>1</th>\n    </tr>\n  </thead>\n  <tbody>\n    <tr>\n      <th>0</th>\n      <td>-1.0</td>\n      <td>2</td>\n    </tr>\n    <tr>\n      <th>1</th>\n      <td>-0.5</td>\n      <td>6</td>\n    </tr>\n    <tr>\n      <th>2</th>\n      <td>0.0</td>\n      <td>10</td>\n    </tr>\n    <tr>\n      <th>3</th>\n      <td>1.0</td>\n      <td>18</td>\n    </tr>\n  </tbody>\n</table>\n</div>"
     },
     "metadata": {},
     "execution_count": 2
    }
   ],
   "source": [
    "from sklearn.preprocessing import MinMaxScaler#导库\n",
    "data = [[-1,2],[-0.5,6],[0,10],[1,18]]\n",
    "#换成表\n",
    "import pandas as pd\n",
    "pd.DataFrame(data)"
   ]
  },
  {
   "cell_type": "code",
   "execution_count": 3,
   "metadata": {},
   "outputs": [
    {
     "output_type": "execute_result",
     "data": {
      "text/plain": "array([[0.  , 0.  ],\n       [0.25, 0.25],\n       [0.5 , 0.5 ],\n       [1.  , 1.  ]])"
     },
     "metadata": {},
     "execution_count": 3
    }
   ],
   "source": [
    "#Normalization\n",
    "scaler = MinMaxScaler()#实例化\n",
    "scaler = scaler.fit(data)#fit,此处是生成min(x)与max(x)\n",
    "result = scaler.transform(data)#通过接口导出结果\n",
    "result"
   ]
  },
  {
   "cell_type": "code",
   "execution_count": 4,
   "metadata": {},
   "outputs": [
    {
     "output_type": "execute_result",
     "data": {
      "text/plain": "array([[0.  , 0.  ],\n       [0.25, 0.25],\n       [0.5 , 0.5 ],\n       [1.  , 1.  ]])"
     },
     "metadata": {},
     "execution_count": 4
    }
   ],
   "source": [
    "result_ = scaler.fit_transform(data)#训练与导出结果一步达成\n",
    "result_"
   ]
  },
  {
   "cell_type": "code",
   "execution_count": 5,
   "metadata": {},
   "outputs": [
    {
     "output_type": "execute_result",
     "data": {
      "text/plain": "array([[-1. ,  2. ],\n       [-0.5,  6. ],\n       [ 0. , 10. ],\n       [ 1. , 18. ]])"
     },
     "metadata": {},
     "execution_count": 5
    }
   ],
   "source": [
    "scaler.inverse_transform(result)#将归一化得结果逆转#还原"
   ]
  },
  {
   "cell_type": "code",
   "execution_count": 6,
   "metadata": {},
   "outputs": [
    {
     "output_type": "execute_result",
     "data": {
      "text/plain": "array([[ 5.  ,  5.  ],\n       [ 6.25,  6.25],\n       [ 7.5 ,  7.5 ],\n       [10.  , 10.  ]])"
     },
     "metadata": {},
     "execution_count": 6
    }
   ],
   "source": [
    "#使用MinMaxScaler的参数feature_range将数据归一化到[0,1]以外的范围\n",
    "data = [[-1,2],[-0.5,6],[0,10],[1,18]]\n",
    "scaler = MinMaxScaler(feature_range=[5,10])\n",
    "result = scaler.fit_transform(data)#一步导出结果\n",
    "result"
   ]
  },
  {
   "cell_type": "markdown",
   "metadata": {},
   "source": [
    "> 当X中的特征数量非常多时，fit报错显示数据量大了俺计算不了，此时应用**partial_fit**作为训练接口。\n",
    "\n",
    "### scaler = scaler.partial_fit(data)"
   ]
  },
  {
   "cell_type": "markdown",
   "metadata": {},
   "source": [
    "## Normalization实现"
   ]
  },
  {
   "cell_type": "code",
   "execution_count": 7,
   "metadata": {},
   "outputs": [
    {
     "output_type": "execute_result",
     "data": {
      "text/plain": "array([[0.  , 0.  ],\n       [0.25, 0.25],\n       [0.5 , 0.5 ],\n       [1.  , 1.  ]])"
     },
     "metadata": {},
     "execution_count": 7
    }
   ],
   "source": [
    "import numpy as np\n",
    "X = np.array([[-1,2],[-0.5,6],[0,10],[1,18]])\n",
    "X.min(axis=0)#跨列计算\n",
    "# 归一化\n",
    "X_nor = (X-X.min(axis=0))/(X.max(axis=0) - X.min(axis=0))\n",
    "X_nor"
   ]
  },
  {
   "cell_type": "code",
   "execution_count": 8,
   "metadata": {},
   "outputs": [
    {
     "output_type": "execute_result",
     "data": {
      "text/plain": "array([[-1. ,  2. ],\n       [-0.5,  6. ],\n       [ 0. , 10. ],\n       [ 1. , 18. ]])"
     },
     "metadata": {},
     "execution_count": 8
    }
   ],
   "source": [
    "#逆转归一化\n",
    "X_returned = X_nor * (X.max(axis=0)-X.min(axis=0))+X.min(axis=0)\n",
    "X_returned"
   ]
  },
  {
   "cell_type": "markdown",
   "metadata": {},
   "source": [
    "# preprocessing.StandardScaler\n",
    "数据(x)按均值(μ)中心化后，按标准差(σ)缩放，数据会服从均值为 0 方差为 1 的标准正态分布，此过程，叫**数据标准化(Standardization又叫Z-score normalization)**\n",
    "\n",
    "\n"
   ]
  },
  {
   "cell_type": "code",
   "execution_count": 16,
   "metadata": {},
   "outputs": [],
   "source": [
    "data = [[-1,2],[-0.5,6],[0,10],[1,18]]\n",
    "from sklearn.preprocessing import StandardScaler"
   ]
  },
  {
   "cell_type": "code",
   "execution_count": 17,
   "metadata": {},
   "outputs": [
    {
     "output_type": "execute_result",
     "data": {
      "text/plain": "StandardScaler(copy=True, with_mean=True, with_std=True)"
     },
     "metadata": {},
     "execution_count": 17
    }
   ],
   "source": [
    "scaler = StandardScaler()#实例化\n",
    "scaler.fit(data)#fit，本质是生成均值和/方差"
   ]
  },
  {
   "cell_type": "code",
   "execution_count": 18,
   "metadata": {},
   "outputs": [
    {
     "output_type": "execute_result",
     "data": {
      "text/plain": "array([-0.125,  9.   ])"
     },
     "metadata": {},
     "execution_count": 18
    }
   ],
   "source": [
    "scaler.mean_ #查看均值的属性mean_# 自动是按一整列"
   ]
  },
  {
   "cell_type": "code",
   "execution_count": 19,
   "metadata": {},
   "outputs": [
    {
     "output_type": "execute_result",
     "data": {
      "text/plain": "array([ 0.546875, 35.      ])"
     },
     "metadata": {},
     "execution_count": 19
    }
   ],
   "source": [
    "scaler.var_#查看方差"
   ]
  },
  {
   "cell_type": "code",
   "execution_count": 20,
   "metadata": {},
   "outputs": [
    {
     "output_type": "execute_result",
     "data": {
      "text/plain": "array([[-1.18321596, -1.18321596],\n       [-0.50709255, -0.50709255],\n       [ 0.16903085,  0.16903085],\n       [ 1.52127766,  1.52127766]])"
     },
     "metadata": {},
     "execution_count": 20
    }
   ],
   "source": [
    "x_std = scaler.transform(data)#通过接口导出结果\n",
    "x_std"
   ]
  },
  {
   "cell_type": "code",
   "execution_count": 21,
   "metadata": {},
   "outputs": [
    {
     "output_type": "execute_result",
     "data": {
      "text/plain": "0.0"
     },
     "metadata": {},
     "execution_count": 21
    }
   ],
   "source": [
    "x_std.mean()#导出结果是一个数组，用mean()查看均值"
   ]
  },
  {
   "cell_type": "code",
   "execution_count": 22,
   "metadata": {},
   "outputs": [
    {
     "output_type": "execute_result",
     "data": {
      "text/plain": "1.0"
     },
     "metadata": {},
     "execution_count": 22
    }
   ],
   "source": [
    "x_std.std()#用std()查看方差"
   ]
  },
  {
   "cell_type": "code",
   "execution_count": 23,
   "metadata": {},
   "outputs": [
    {
     "output_type": "execute_result",
     "data": {
      "text/plain": "array([[-1.18321596, -1.18321596],\n       [-0.50709255, -0.50709255],\n       [ 0.16903085,  0.16903085],\n       [ 1.52127766,  1.52127766]])"
     },
     "metadata": {},
     "execution_count": 23
    }
   ],
   "source": [
    "scaler.fit_transform(data)#使用fit_transform(data)一步达成结果"
   ]
  },
  {
   "cell_type": "code",
   "execution_count": 24,
   "metadata": {},
   "outputs": [
    {
     "output_type": "execute_result",
     "data": {
      "text/plain": "array([[-1. ,  2. ],\n       [-0.5,  6. ],\n       [ 0. , 10. ],\n       [ 1. , 18. ]])"
     },
     "metadata": {},
     "execution_count": 24
    }
   ],
   "source": [
    "scaler.inverse_transform(x_std)#使用inverse_transform逆转标准化"
   ]
  },
  {
   "cell_type": "markdown",
   "metadata": {},
   "source": [
    "+ 对于StandardScaler(标准化)和MinMaxScaler(归一化)，NaN被视为缺失值，fit时直接忽略，在transform时会继续保持NaN的形式。\n",
    "+ 尽管去量纲化不是具体算法，但在fit接口中，依然只允许导入至少二维数组，一维数组导入报错\n",
    "(通常X是特征矩阵，现实中feature matrix不太可能一维)\n",
    "+ 练习时用大于1-dim的，1-dim的要reshape(-1,1)改维度。"
   ]
  },
  {
   "cell_type": "markdown",
   "metadata": {},
   "source": [
    "+ 因为MinMaxScaler对异常值非常敏感，在PCA，聚类，逻辑回归，支持向量机，神经网络中StandardScaler往往最好\n",
    "+ MinMaxScaler在不涉及距离度量，梯度，协方差计算以及数据需要被压缩到特定区间时使用广泛，比如数字图像处理中量化像素强度时，都会使用MinMaxScaler将数据压缩于[0,1]区间之中。\n",
    "+ 先试试StandardScaler,效果不好用MinMaxScaler"
   ]
  },
  {
   "cell_type": "markdown",
   "metadata": {},
   "source": [
    "##### sklearn也提供除StandardScaler和MinMaxScaler之外的各种**缩放处理**(中心化只需要pandas广播减去某个数就好，因此sklearn不提供任何中心化功能)。\n",
    "+ 在希望压缩数据却不影响数据的稀疏性(矩阵中取值为0的个数)时，使用MaxAbsScaler只压缩，不中心化\n",
    "+ 异常值多噪声很大时，可能选分位数来无量纲化，此时用RobustScaler"
   ]
  }
 ],
 "metadata": {
  "kernelspec": {
   "display_name": "Python 3",
   "language": "python",
   "name": "python3"
  },
  "language_info": {
   "codemirror_mode": {
    "name": "ipython",
    "version": 3
   },
   "file_extension": ".py",
   "mimetype": "text/x-python",
   "name": "python",
   "nbconvert_exporter": "python",
   "pygments_lexer": "ipython3",
   "version": "3.7.6-final"
  }
 },
 "nbformat": 4,
 "nbformat_minor": 4
}
